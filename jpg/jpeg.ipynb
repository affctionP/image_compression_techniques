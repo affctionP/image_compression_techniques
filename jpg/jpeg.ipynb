{
 "cells": [
  {
   "cell_type": "code",
   "execution_count": 33,
   "id": "ef2c8803",
   "metadata": {},
   "outputs": [],
   "source": [
    "\n",
    "from io import BytesIO# \"import StringIO\" directly in python2\n",
    "from PIL import Image\n",
    "import numpy as np\n",
    "IMAGE_FILE=\"../traf.bmp\"\n",
    "im1 = Image.open(IMAGE_FILE)\n",
    "\n",
    "# here, we create an empty string buffer    \n",
    "buffer = BytesIO()\n",
    "im1.save(buffer, \"JPEG\", quality=7)\n",
    "\n",
    "# ... do something else ...\n",
    "\n",
    "# write the buffer to a file to make sure it worked\n",
    "with open(\"./photo-qualitymin.jpg\", \"wb\") as handle:\n",
    "    handle.write(buffer.getbuffer()) \n",
    "    #dat = np.frombuffer(buffer.getbuffer())"
   ]
  },
  {
   "cell_type": "code",
   "execution_count": 34,
   "id": "e6469483",
   "metadata": {},
   "outputs": [],
   "source": [
    "import sys, struct\n",
    "from PIL import Image \n",
    "image = Image.open(buffer).convert(\"RGB\")\n",
    "buffer.close()\n",
    "#image.save('out.png')"
   ]
  },
  {
   "cell_type": "code",
   "execution_count": 35,
   "id": "a801fcc5",
   "metadata": {},
   "outputs": [],
   "source": [
    " Final = np.asarray(image)"
   ]
  },
  {
   "cell_type": "code",
   "execution_count": 36,
   "id": "f6beb2b5",
   "metadata": {},
   "outputs": [],
   "source": [
    " Input = np.asarray(im1)"
   ]
  },
  {
   "cell_type": "code",
   "execution_count": 37,
   "id": "d5c65613",
   "metadata": {},
   "outputs": [
    {
     "name": "stdout",
     "output_type": "stream",
     "text": [
      "31.488949593085067\n"
     ]
    }
   ],
   "source": [
    "from math import log10\n",
    "def PSNR(original, compressed):\n",
    "    diff=(original-compressed)\n",
    "    mse=np.mean((original-compressed)**2)\n",
    "    max_pixel=255\n",
    "    psnr=20*log10(max_pixel/((mse)**(1/2)))\n",
    "    return psnr\n",
    "    \n",
    "\n",
    "\n",
    "x=PSNR(Input,Final)\n",
    "print(x)\n"
   ]
  },
  {
   "cell_type": "code",
   "execution_count": 38,
   "id": "8371a006",
   "metadata": {},
   "outputs": [],
   "source": [
    "import cv2\n",
    "def tobin(img):\n",
    "    im_gray =cv2.cvtColor(img.astype(\"uint8\"),cv2.COLOR_BGR2GRAY)\n",
    "   \n",
    "    (thresh, im_bw) = cv2.threshold(im_gray, 128, 255, cv2.THRESH_BINARY | cv2.THRESH_OTSU)\n",
    "    cv2.imwrite('bw_img.png', im_bw)"
   ]
  },
  {
   "cell_type": "code",
   "execution_count": 39,
   "id": "4838d450",
   "metadata": {},
   "outputs": [],
   "source": [
    "tobin(Final)"
   ]
  },
  {
   "cell_type": "code",
   "execution_count": null,
   "id": "e4d6c9aa",
   "metadata": {},
   "outputs": [],
   "source": []
  },
  {
   "cell_type": "code",
   "execution_count": null,
   "id": "dcdfb087",
   "metadata": {},
   "outputs": [],
   "source": []
  }
 ],
 "metadata": {
  "kernelspec": {
   "display_name": "Python 3 (ipykernel)",
   "language": "python",
   "name": "python3"
  },
  "language_info": {
   "codemirror_mode": {
    "name": "ipython",
    "version": 3
   },
   "file_extension": ".py",
   "mimetype": "text/x-python",
   "name": "python",
   "nbconvert_exporter": "python",
   "pygments_lexer": "ipython3",
   "version": "3.10.5"
  }
 },
 "nbformat": 4,
 "nbformat_minor": 5
}
