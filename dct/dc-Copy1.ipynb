{
 "cells": [
  {
   "cell_type": "code",
   "execution_count": 84,
   "id": "15882b78",
   "metadata": {},
   "outputs": [
    {
     "name": "stdout",
     "output_type": "stream",
     "text": [
      "Data type: float64\n",
      "Pixel intensity range: (0,255)\n",
      "(1080, 1920, 3)\n"
     ]
    }
   ],
   "source": [
    "import matplotlib.pyplot as plt\n",
    "import cv2\n",
    "\n",
    "image = '../traf.bmp'\n",
    "\n",
    "#Load image\n",
    "#I = plt.imread(image)\n",
    "I=cv2.imread(image)\n",
    "I=I.astype(\"float64\")\n",
    "Green,Blue,Red=cv2.split(I)\n",
    "#plt.figure(figsize=(10,10))\n",
    "#plt.imshow(I,cmap='gray')\n",
    "\n",
    "#Check data type of image\n",
    "print('Data type: '+str(Blue.dtype))\n",
    "print('Pixel intensity range: (%d,%d)'%(I.min(),I.max()))\n",
    "\n",
    "#Print image shape\n",
    "print(I.shape)\n"
   ]
  },
  {
   "cell_type": "code",
   "execution_count": 85,
   "id": "62e5d9c6",
   "metadata": {},
   "outputs": [],
   "source": [
    "\n",
    "from scipy.fftpack import dct\n",
    "from scipy.fftpack import idct\n",
    "import numpy as np\n",
    "\n",
    "def dct2(f):\n",
    "    \"\"\"2D Discrete Cosine Transform\n",
    "\n",
    "    Args:\n",
    "        f: Square array\n",
    "\n",
    "    Returns: \n",
    "        2D DCT of f\n",
    "    \"\"\"\n",
    "    return dct(dct(f, axis=0, norm='ortho' ),axis=1, norm='ortho')\n",
    "\n",
    "\n",
    "\n",
    "\n",
    "def idct2(f):\n",
    "    \"\"\"2D Inverse Discrete Cosine Transform\n",
    "\n",
    "    Args:\n",
    "        f: Square array\n",
    "\n",
    "    Returns: \n",
    "        2D Inverse DCT of f\n",
    "    \"\"\"\n",
    "    return idct(idct(f, axis=0 , norm='ortho'), axis=1 , norm='ortho')\n"
   ]
  },
  {
   "cell_type": "code",
   "execution_count": 86,
   "id": "8605a4b6",
   "metadata": {},
   "outputs": [],
   "source": [
    " def fun(I):   \n",
    "    patch_size = 8  #8x8 patch\n",
    "    I_dct = np.zeros_like(I)\n",
    "    for i in range(0,I.shape[0],patch_size):\n",
    "        for j in range(0,I.shape[1],patch_size):\n",
    "            I_dct[i:(i+patch_size),j:(j+patch_size)] = dct2(I[i:(i+patch_size),j:(j+patch_size)])\n",
    "    thresh = 0.04\n",
    "    I_thresh = I_dct * (np.absolute(I_dct) > thresh*np.max(np.absolute(I_dct)))\n",
    "    return  I_thresh\n"
   ]
  },
  {
   "cell_type": "code",
   "execution_count": 87,
   "id": "70c10ba0",
   "metadata": {},
   "outputs": [],
   "source": [
    "dct_b=fun(Blue)\n",
    "dct_g=fun(Green)\n",
    "dct_r=fun(Red)"
   ]
  },
  {
   "cell_type": "code",
   "execution_count": 88,
   "id": "8ee77680",
   "metadata": {},
   "outputs": [],
   "source": [
    "def revers(I_thresh):\n",
    "    patch_size = 8  #8x8 patch\n",
    "    I_comp = np.zeros(I_thresh.shape,dtype=\"float64\")\n",
    "    for i in range(0,I.shape[0],patch_size):\n",
    "        for j in range(0,I.shape[1],patch_size):\n",
    "            I_comp[i:(i+patch_size),j:(j+patch_size)] = idct2(I_thresh[i:(i+patch_size),j:(j+patch_size)])\n",
    "    return  I_comp"
   ]
  },
  {
   "cell_type": "code",
   "execution_count": 89,
   "id": "aed01807",
   "metadata": {},
   "outputs": [],
   "source": [
    "idct_b=revers(dct_b)\n",
    "idct_g=revers(dct_g)\n",
    "idct_r=revers(dct_r)\n",
    "\n"
   ]
  },
  {
   "cell_type": "code",
   "execution_count": 90,
   "id": "7853a495",
   "metadata": {},
   "outputs": [],
   "source": [
    "I_comp=cv2.merge([idct_b,idct_g,idct_r])\n"
   ]
  },
  {
   "cell_type": "code",
   "execution_count": 91,
   "id": "80ae6975",
   "metadata": {},
   "outputs": [],
   "source": [
    "\n",
    "#Plot decompressed (reconstructed image)\n",
    "#plt.figure(figsize=(30,10))\n",
    "#plt.imshow(I_comp)\n",
    "\n"
   ]
  },
  {
   "cell_type": "code",
   "execution_count": 92,
   "id": "1a778248",
   "metadata": {},
   "outputs": [],
   "source": [
    "\n",
    "#cv2.imwrite(\"dct0.02.min.png\",I_comp)"
   ]
  },
  {
   "cell_type": "code",
   "execution_count": 93,
   "id": "32638a14",
   "metadata": {},
   "outputs": [
    {
     "name": "stdout",
     "output_type": "stream",
     "text": [
      "PSNR: 24.0376 dB\n"
     ]
    }
   ],
   "source": [
    "\n",
    "#Compute Peak Signal to Noise Ratio (PSNR)\n",
    "MSE = np.sum((I-I_comp)**2)/I.size\n",
    "PSNR = 10*np.log10(np.max(I)**2/MSE)\n",
    "print('PSNR: %.4f dB'%PSNR)\n"
   ]
  },
  {
   "cell_type": "code",
   "execution_count": 94,
   "id": "ede035b1",
   "metadata": {},
   "outputs": [],
   "source": [
    "def tobin(img):\n",
    "    im_gray =cv2.cvtColor(img.astype(\"uint8\"),cv2.COLOR_BGR2GRAY)\n",
    "   \n",
    "    (thresh, im_bw) = cv2.threshold(im_gray, 128, 255, cv2.THRESH_BINARY | cv2.THRESH_OTSU)\n",
    "    cv2.imwrite('bw_img.png', im_bw)"
   ]
  },
  {
   "cell_type": "code",
   "execution_count": 83,
   "id": "db0a5b6f",
   "metadata": {},
   "outputs": [],
   "source": [
    "tobin(I_comp)"
   ]
  },
  {
   "cell_type": "code",
   "execution_count": null,
   "id": "a19a3491",
   "metadata": {},
   "outputs": [],
   "source": []
  }
 ],
 "metadata": {
  "kernelspec": {
   "display_name": "Python 3 (ipykernel)",
   "language": "python",
   "name": "python3"
  },
  "language_info": {
   "codemirror_mode": {
    "name": "ipython",
    "version": 3
   },
   "file_extension": ".py",
   "mimetype": "text/x-python",
   "name": "python",
   "nbconvert_exporter": "python",
   "pygments_lexer": "ipython3",
   "version": "3.10.5"
  }
 },
 "nbformat": 4,
 "nbformat_minor": 5
}
