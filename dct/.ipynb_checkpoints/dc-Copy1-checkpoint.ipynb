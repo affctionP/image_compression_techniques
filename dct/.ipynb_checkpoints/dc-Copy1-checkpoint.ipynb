{
 "cells": [
  {
   "cell_type": "code",
   "execution_count": 100,
   "id": "15882b78",
   "metadata": {},
   "outputs": [
    {
     "name": "stdout",
     "output_type": "stream",
     "text": [
      "Data type: float64\n",
      "Pixel intensity range: (0,255)\n",
      "(1080, 1920, 3)\n"
     ]
    }
   ],
   "source": [
    "import matplotlib.pyplot as plt\n",
    "import cv2\n",
    "\n",
    "image = 'traf.bmp'\n",
    "\n",
    "#Load image\n",
    "#I = plt.imread(image)\n",
    "I=cv2.imread(image)\n",
    "I=I.astype(\"float64\")\n",
    "Green,Blue,Red=cv2.split(I)\n",
    "#plt.figure(figsize=(10,10))\n",
    "#plt.imshow(I,cmap='gray')\n",
    "\n",
    "#Check data type of image\n",
    "print('Data type: '+str(Blue.dtype))\n",
    "print('Pixel intensity range: (%d,%d)'%(I.min(),I.max()))\n",
    "\n",
    "#Print image shape\n",
    "print(I.shape)\n"
   ]
  },
  {
   "cell_type": "code",
   "execution_count": 101,
   "id": "62e5d9c6",
   "metadata": {},
   "outputs": [],
   "source": [
    "\n",
    "from scipy.fftpack import dct\n",
    "from scipy.fftpack import idct\n",
    "import numpy as np\n",
    "\n",
    "def dct2(f):\n",
    "    \"\"\"2D Discrete Cosine Transform\n",
    "\n",
    "    Args:\n",
    "        f: Square array\n",
    "\n",
    "    Returns: \n",
    "        2D DCT of f\n",
    "    \"\"\"\n",
    "    return dct(dct(f, axis=0, norm='ortho' ),axis=1, norm='ortho')\n",
    "\n",
    "\n",
    "\n",
    "\n",
    "def idct2(f):\n",
    "    \"\"\"2D Inverse Discrete Cosine Transform\n",
    "\n",
    "    Args:\n",
    "        f: Square array\n",
    "\n",
    "    Returns: \n",
    "        2D Inverse DCT of f\n",
    "    \"\"\"\n",
    "    return idct(idct(f, axis=0 , norm='ortho'), axis=1 , norm='ortho')\n"
   ]
  },
  {
   "cell_type": "code",
   "execution_count": 118,
   "id": "8605a4b6",
   "metadata": {},
   "outputs": [],
   "source": [
    " def fun(I):   \n",
    "    patch_size = 8  #8x8 patch\n",
    "    I_dct = np.zeros_like(I)\n",
    "    for i in range(0,I.shape[0],patch_size):\n",
    "        for j in range(0,I.shape[1],patch_size):\n",
    "            I_dct[i:(i+patch_size),j:(j+patch_size)] = dct2(I[i:(i+patch_size),j:(j+patch_size)])\n",
    "    thresh = 0.05\n",
    "    I_thresh = I_dct * (np.absolute(I_dct) > thresh*np.max(np.absolute(I_dct)))\n",
    "    return  I_thresh\n"
   ]
  },
  {
   "cell_type": "code",
   "execution_count": 119,
   "id": "70c10ba0",
   "metadata": {},
   "outputs": [],
   "source": [
    "dct_b=fun(Blue)\n",
    "dct_g=fun(Green)\n",
    "dct_r=fun(Red)"
   ]
  },
  {
   "cell_type": "code",
   "execution_count": 120,
   "id": "8ee77680",
   "metadata": {},
   "outputs": [],
   "source": [
    "def revers(I_thresh):\n",
    "    patch_size = 8  #8x8 patch\n",
    "    I_comp = np.zeros(I_thresh.shape,dtype=\"float64\")\n",
    "    for i in range(0,I.shape[0],patch_size):\n",
    "        for j in range(0,I.shape[1],patch_size):\n",
    "            I_comp[i:(i+patch_size),j:(j+patch_size)] = idct2(I_thresh[i:(i+patch_size),j:(j+patch_size)])\n",
    "    return  I_comp"
   ]
  },
  {
   "cell_type": "code",
   "execution_count": null,
   "id": "361e07d6",
   "metadata": {},
   "outputs": [],
   "source": []
  },
  {
   "cell_type": "code",
   "execution_count": 121,
   "id": "aed01807",
   "metadata": {},
   "outputs": [],
   "source": [
    "idct_b=revers(dct_b)\n",
    "idct_g=revers(dct_g)\n",
    "idct_r=revers(dct_r)\n",
    "\n"
   ]
  },
  {
   "cell_type": "code",
   "execution_count": 122,
   "id": "7853a495",
   "metadata": {},
   "outputs": [],
   "source": [
    "I_comp=cv2.merge([idct_b,idct_g,idct_r])\n"
   ]
  },
  {
   "cell_type": "code",
   "execution_count": 123,
   "id": "80ae6975",
   "metadata": {},
   "outputs": [
    {
     "name": "stderr",
     "output_type": "stream",
     "text": [
      "Clipping input data to the valid range for imshow with RGB data ([0..1] for floats or [0..255] for integers).\n"
     ]
    },
    {
     "data": {
      "text/plain": [
       "<matplotlib.image.AxesImage at 0x7f7ad219e050>"
      ]
     },
     "execution_count": 123,
     "metadata": {},
     "output_type": "execute_result"
    },
    {
     "data": {
      "image/png": "[encoded data removed]",
      "text/plain": [
       "<Figure size 2160x720 with 1 Axes>"
      ]
     },
     "metadata": {
      "needs_background": "light"
     },
     "output_type": "display_data"
    }
   ],
   "source": [
    "\n",
    "#Plot decompressed (reconstructed image)\n",
    "#plt.figure(figsize=(30,10))\n",
    "#plt.imshow(I_comp)\n",
    "\n"
   ]
  },
  {
   "cell_type": "code",
   "execution_count": 124,
   "id": "1a778248",
   "metadata": {},
   "outputs": [
    {
     "data": {
      "text/plain": [
       "True"
      ]
     },
     "execution_count": 124,
     "metadata": {},
     "output_type": "execute_result"
    }
   ],
   "source": [
    "\n",
    "cv2.imwrite(\"dct0.05.png\",I_comp)"
   ]
  },
  {
   "cell_type": "code",
   "execution_count": 125,
   "id": "32638a14",
   "metadata": {},
   "outputs": [
    {
     "name": "stdout",
     "output_type": "stream",
     "text": [
      "PSNR: 23.7923 dB\n"
     ]
    }
   ],
   "source": [
    "\n",
    "#Compute Peak Signal to Noise Ratio (PSNR)\n",
    "MSE = np.sum((I-I_comp)**2)/I.size\n",
    "PSNR = 10*np.log10(np.max(I)**2/MSE)\n",
    "print('PSNR: %.4f dB'%PSNR)\n"
   ]
  },
  {
   "cell_type": "code",
   "execution_count": 66,
   "id": "ede035b1",
   "metadata": {},
   "outputs": [
    {
     "data": {
      "text/plain": [
       "6220800"
      ]
     },
     "execution_count": 66,
     "metadata": {},
     "output_type": "execute_result"
    }
   ],
   "source": []
  },
  {
   "cell_type": "code",
   "execution_count": null,
   "id": "89d635fb",
   "metadata": {},
   "outputs": [],
   "source": [
    "\n",
    "#Compute size of compressed image and compression ratio\n",
    "frac_nonzero = np.sum(I_thresh != 0.0)/I.size\n",
    "print(\"Keeping %.2f%% of DCT coefficients\"%(100*frac_nonzero))\n",
    "print('Compression ratio: %.1f:1'%(1/frac_nonzero))\n"
   ]
  }
 ],
 "metadata": {
  "kernelspec": {
   "display_name": "Python 3 (ipykernel)",
   "language": "python",
   "name": "python3"
  },
  "language_info": {
   "codemirror_mode": {
    "name": "ipython",
    "version": 3
   },
   "file_extension": ".py",
   "mimetype": "text/x-python",
   "name": "python",
   "nbconvert_exporter": "python",
   "pygments_lexer": "ipython3",
   "version": "3.10.5"
  }
 },
 "nbformat": 4,
 "nbformat_minor": 5
}
