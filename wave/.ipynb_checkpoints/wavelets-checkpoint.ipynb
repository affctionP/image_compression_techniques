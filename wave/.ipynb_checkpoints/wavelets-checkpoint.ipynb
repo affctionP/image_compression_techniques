{
 "cells": [
  {
   "cell_type": "code",
   "execution_count": 1,
   "id": "1a8fdabb",
   "metadata": {},
   "outputs": [],
   "source": [
    "from matplotlib.image import imread\n",
    "import numpy as np\n",
    "import matplotlib.pyplot as plt\n",
    "import os\n",
    "import pywt\n",
    "import cv2\n",
    "#A=imread(os.path.join('up.bmp'))\n",
    "#B=np.mean(A,-1)\n",
    "image=cv2.imread('../traf.bmp')\n"
   ]
  },
  {
   "cell_type": "code",
   "execution_count": 2,
   "id": "c8f2b274",
   "metadata": {},
   "outputs": [],
   "source": [
    "(B, G, R) = cv2.split(image)\n",
    "cop=(B, G, R)\n",
    "coeffs=np.array([0,0,0] ,dtype=object)\n",
    "arr=np.array([0,0,0] ,dtype=object)\n",
    "coeff_slice =np.array([0,0,0] ,dtype=object)\n",
    "Csort=np.array([0,0,0] ,dtype=object)\n",
    "thresh=np.array([0,0,0] ,dtype=object)\n",
    "ind=np.array([0,0,0] ,dtype=object)\n",
    "coeffs_filt=np.array([0,0,0] ,dtype=object)\n",
    "Arecon=np.array([0,0,0] ,dtype=object)"
   ]
  },
  {
   "cell_type": "code",
   "execution_count": 3,
   "id": "0531338b",
   "metadata": {},
   "outputs": [],
   "source": [
    "keep=0.001\n",
    "for i in range (3):   \n",
    "\n",
    "    coeffs[i]=pywt.dwt2(cop[i], 'db1')\n",
    "    arr[i],coeff_slice[i] =pywt.coeffs_to_array(list(coeffs[i]))\n",
    "    Csort[i]=np.sort(np.abs(arr[i].reshape(-1)))\n",
    "    thresh[i]=Csort[i][int(np.floor((1-keep)*len(Csort[i])))]\n",
    "    ind[i]=np.abs(arr[i])>thresh[i]\n",
    "    coeffs_filt[i]=pywt.array_to_coeffs(arr[i]*ind[i],coeff_slice[i],output_format='wavedec2')\n",
    "    Arecon[i]=pywt.idwt2( coeffs_filt[i],'db1')\n",
    "    \n",
    "    \n",
    "    "
   ]
  },
  {
   "cell_type": "code",
   "execution_count": 4,
   "id": "e65de13d",
   "metadata": {},
   "outputs": [
    {
     "data": {
      "text/plain": [
       "-1"
      ]
     },
     "execution_count": 4,
     "metadata": {},
     "output_type": "execute_result"
    }
   ],
   "source": [
    "merged = cv2.merge([Arecon[0], Arecon[1], Arecon[2]])\n",
    "cv2.imwrite('color_db_min.png', merged)\n",
    "cv2.waitKey()"
   ]
  },
  {
   "cell_type": "code",
   "execution_count": 5,
   "id": "e90f219b",
   "metadata": {},
   "outputs": [],
   "source": [
    "\n",
    "\n",
    "from math import log10\n",
    "def PSNR(original, compressed):\n",
    "    diff=(original-compressed)\n",
    "    mse=np.mean((original-compressed)**2)\n",
    "    max_pixel=255\n",
    "    psnr=20*log10(max_pixel/((mse)**(1/2)))\n",
    "    return psnr\n",
    "    \n",
    "\n"
   ]
  },
  {
   "cell_type": "code",
   "execution_count": 6,
   "id": "c82e18f6",
   "metadata": {},
   "outputs": [
    {
     "name": "stdout",
     "output_type": "stream",
     "text": [
      "8.006976288184495\n"
     ]
    }
   ],
   "source": [
    "x=PSNR(image,merged)\n",
    "print(x)\n"
   ]
  },
  {
   "cell_type": "code",
   "execution_count": 7,
   "id": "51d581aa",
   "metadata": {},
   "outputs": [],
   "source": [
    "def tobin(img):\n",
    "    im_gray =cv2.cvtColor(img.astype(\"uint8\"),cv2.COLOR_BGR2GRAY)\n",
    "   \n",
    "    (thresh, im_bw) = cv2.threshold(im_gray, 128, 255, cv2.THRESH_BINARY | cv2.THRESH_OTSU)\n",
    "    cv2.imwrite('bw_img.png', im_bw)"
   ]
  },
  {
   "cell_type": "code",
   "execution_count": 8,
   "id": "4114dcf4",
   "metadata": {},
   "outputs": [],
   "source": [
    "tobin(merged)"
   ]
  },
  {
   "cell_type": "code",
   "execution_count": null,
   "id": "6a1b8726",
   "metadata": {},
   "outputs": [],
   "source": []
  }
 ],
 "metadata": {
  "kernelspec": {
   "display_name": "Python 3 (ipykernel)",
   "language": "python",
   "name": "python3"
  },
  "language_info": {
   "codemirror_mode": {
    "name": "ipython",
    "version": 3
   },
   "file_extension": ".py",
   "mimetype": "text/x-python",
   "name": "python",
   "nbconvert_exporter": "python",
   "pygments_lexer": "ipython3",
   "version": "3.10.5"
  }
 },
 "nbformat": 4,
 "nbformat_minor": 5
}
